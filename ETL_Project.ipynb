{
 "cells": [
  {
   "cell_type": "markdown",
   "metadata": {},
   "source": [
    "# Extract"
   ]
  },
  {
   "cell_type": "code",
   "execution_count": 1,
   "metadata": {},
   "outputs": [],
   "source": [
    "# Import Dependencies\n",
    "import pandas as pd\n",
    "from sqlalchemy import create_engine\n",
    "\n",
    "from config import username, password, database_name, localhost_number"
   ]
  },
  {
   "cell_type": "code",
   "execution_count": 2,
   "metadata": {},
   "outputs": [],
   "source": [
    "# Create filepaths to read\n",
    "filepath_college_type = 'Resources/salaries-by-college-type.csv'\n",
    "filepath_salaries = 'Resources/salaries-by-region.csv'"
   ]
  },
  {
   "cell_type": "code",
   "execution_count": 3,
   "metadata": {},
   "outputs": [],
   "source": [
    "# Read CSV files and store as dataframes\n",
    "college_type_df = pd.read_csv(filepath_college_type)\n",
    "salaries_df = pd.read_csv(filepath_salaries)"
   ]
  },
  {
   "cell_type": "markdown",
   "metadata": {},
   "source": [
    "# Transform"
   ]
  },
  {
   "cell_type": "code",
   "execution_count": 6,
   "metadata": {},
   "outputs": [],
   "source": [
    "# Start with college_type data, drop unnecessary columns\n",
    "college_type = college_type_df[['School Name','School Type']].copy()\n",
    "\n",
    "# Rename columns (lower-case, no spaces)\n",
    "college_type.rename(columns={'School Name':'school_name','School Type':'school_type'},inplace=True)\n",
    "\n",
    "# Remove duplicate schools\n",
    "college_type.drop_duplicates('school_name',inplace=True)\n",
    "\n",
    "# Set school_name as index\n",
    "college_type.set_index('school_name',inplace=True)"
   ]
  },
  {
   "cell_type": "code",
   "execution_count": 8,
   "metadata": {},
   "outputs": [],
   "source": [
    "# Next with salaries data, drop unnecessary columns\n",
    "salaries = salaries_df[['School Name','Region','Starting Median Salary','Mid-Career Median Salary']].copy()\n",
    "\n",
    "# Rename columns (lower-case, no spaces)\n",
    "salaries.rename(columns={'School Name':'school_name',\n",
    "                         'Region':'region',\n",
    "                         'Starting Median Salary':'starting_median_salary',\n",
    "                        'Mid-Career Median Salary':'mid_career_median_salary'}, inplace=True)\n",
    "\n",
    "# Clean up data type of salary data in two columns\n",
    "salaries['starting_median_salary'] = salaries['starting_median_salary'].str.replace('$', '')\n",
    "salaries['starting_median_salary'] = salaries['starting_median_salary'].str.replace(',', '')\n",
    "\n",
    "salaries['mid_career_median_salary'] = salaries['mid_career_median_salary'].str.replace('$', '')\n",
    "salaries['mid_career_median_salary'] = salaries['mid_career_median_salary'].str.replace(',', '')\n",
    "\n",
    "salaries['starting_median_salary'] = salaries['starting_median_salary'].astype('float')\n",
    "salaries['mid_career_median_salary'] = salaries['mid_career_median_salary'].astype('float')\n",
    "\n",
    "# Remove duplicate schools\n",
    "salaries.drop_duplicates('school_name',inplace=True)\n",
    "\n",
    "# Set school_name as index\n",
    "salaries.set_index('school_name',inplace=True)"
   ]
  },
  {
   "cell_type": "markdown",
   "metadata": {},
   "source": [
    "# Load"
   ]
  },
  {
   "cell_type": "code",
   "execution_count": 9,
   "metadata": {},
   "outputs": [],
   "source": [
    "# Create connection to local database\n",
    "rds_connection_string = f\"{username}:{password}@localhost:{localhost_number}/{database_name}\"\n",
    "engine = create_engine(f'postgresql://{rds_connection_string}')"
   ]
  },
  {
   "cell_type": "code",
   "execution_count": 10,
   "metadata": {},
   "outputs": [
    {
     "data": {
      "text/plain": [
       "['college_type', 'salaries']"
      ]
     },
     "execution_count": 10,
     "metadata": {},
     "output_type": "execute_result"
    }
   ],
   "source": [
    "# Check for tables\n",
    "engine.table_names()"
   ]
  },
  {
   "cell_type": "code",
   "execution_count": 11,
   "metadata": {},
   "outputs": [],
   "source": [
    "# Load college_type dataframe into sql table using connection\n",
    "college_type.to_sql(name='college_type', con=engine, if_exists='append', index=True)"
   ]
  },
  {
   "cell_type": "code",
   "execution_count": 12,
   "metadata": {},
   "outputs": [],
   "source": [
    "# load salaries dataframe into sql table using connection\n",
    "salaries.to_sql(name='salaries', con=engine, if_exists='append', index=True)"
   ]
  },
  {
   "cell_type": "code",
   "execution_count": null,
   "metadata": {},
   "outputs": [],
   "source": []
  }
 ],
 "metadata": {
  "kernelspec": {
   "display_name": "Python 3",
   "language": "python",
   "name": "python3"
  },
  "language_info": {
   "codemirror_mode": {
    "name": "ipython",
    "version": 3
   },
   "file_extension": ".py",
   "mimetype": "text/x-python",
   "name": "python",
   "nbconvert_exporter": "python",
   "pygments_lexer": "ipython3",
   "version": "3.8.5"
  }
 },
 "nbformat": 4,
 "nbformat_minor": 4
}
